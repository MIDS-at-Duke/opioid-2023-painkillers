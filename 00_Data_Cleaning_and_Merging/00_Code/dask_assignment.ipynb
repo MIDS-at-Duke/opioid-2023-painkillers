{
 "cells": [
  {
   "cell_type": "code",
   "execution_count": 1,
   "metadata": {},
   "outputs": [],
   "source": [
    "import pandas as pd\n",
    "import os\n",
    "import dask.dataframe as dd\n",
    "from dask.distributed import Client\n",
    "\n",
    "pd.set_option(\"mode.copy_on_write\", True)\n",
    "\n",
    "import warnings\n",
    "\n",
    "warnings.simplefilter(action=\"ignore\", category=FutureWarning)"
   ]
  },
  {
   "cell_type": "code",
   "execution_count": 2,
   "metadata": {},
   "outputs": [
    {
     "name": "stdout",
     "output_type": "stream",
     "text": [
      "I have 8 logical cores.\n"
     ]
    }
   ],
   "source": [
    "import os\n",
    "\n",
    "print(f\"I have {os.cpu_count()} logical cores.\")"
   ]
  },
  {
   "cell_type": "code",
   "execution_count": 5,
   "metadata": {},
   "outputs": [
    {
     "name": "stderr",
     "output_type": "stream",
     "text": [
      "/Users/keonnartey/miniconda3/envs/dask_env/lib/python3.11/site-packages/distributed/node.py:182: UserWarning: Port 8787 is already in use.\n",
      "Perhaps you already have a cluster running?\n",
      "Hosting the HTTP server on port 54839 instead\n",
      "  warnings.warn(\n"
     ]
    }
   ],
   "source": [
    "client = Client()\n",
    "\n",
    "# Define the columns you want to keep\n",
    "required_columns = [\n",
    "    \"BUYER_COUNTY\",\n",
    "    \"BUYER_STATE\",\n",
    "    \"TRANSACTION_DATE\",\n",
    "    \"DOSAGE_UNIT\",\n",
    "    \"CALC_BASE_WT_IN_GM\",\n",
    "    \"MME\",\n",
    "]\n",
    "\n",
    "large_df = dd.read_csv(\n",
    "    \"/Users/keonnartey/Downloads/arcos_all_washpost.tsv\",\n",
    "    sep=\"\\t\",\n",
    "    usecols=required_columns,\n",
    "    dtype={\n",
    "        \"MME\": \"float64\",\n",
    "        \"CALC_BASE_WT_IN_GM\": \"float64\",\n",
    "    },  # Specify the dtype for the columns\n",
    ")\n",
    "\n",
    "# Extract year\n",
    "large_df[\"Year\"] = dd.to_datetime(large_df.TRANSACTION_DATE, format=\"%Y-%m-%d\").dt.year\n",
    "\n",
    "# Group by BUYER_COUNTY, BUYER_STATE, Year and sum MME and CALC_BASE_WT_IN_GM\n",
    "\n",
    "grouped_df = (\n",
    "    large_df.groupby([\"BUYER_COUNTY\", \"BUYER_STATE\", \"Year\"])[\"MME\"].sum().reset_index()\n",
    ")"
   ]
  },
  {
   "cell_type": "code",
   "execution_count": 6,
   "metadata": {},
   "outputs": [
    {
     "data": {
      "text/html": [
       "<div>\n",
       "<style scoped>\n",
       "    .dataframe tbody tr th:only-of-type {\n",
       "        vertical-align: middle;\n",
       "    }\n",
       "\n",
       "    .dataframe tbody tr th {\n",
       "        vertical-align: top;\n",
       "    }\n",
       "\n",
       "    .dataframe thead th {\n",
       "        text-align: right;\n",
       "    }\n",
       "</style>\n",
       "<table border=\"1\" class=\"dataframe\">\n",
       "  <thead>\n",
       "    <tr style=\"text-align: right;\">\n",
       "      <th></th>\n",
       "      <th>BUYER_COUNTY</th>\n",
       "      <th>BUYER_STATE</th>\n",
       "      <th>Year</th>\n",
       "      <th>MME</th>\n",
       "    </tr>\n",
       "  </thead>\n",
       "  <tbody>\n",
       "    <tr>\n",
       "      <th>0</th>\n",
       "      <td>ADAMS</td>\n",
       "      <td>IN</td>\n",
       "      <td>2006</td>\n",
       "      <td>3.290648e+06</td>\n",
       "    </tr>\n",
       "    <tr>\n",
       "      <th>1</th>\n",
       "      <td>ADAMS</td>\n",
       "      <td>IN</td>\n",
       "      <td>2007</td>\n",
       "      <td>3.786557e+06</td>\n",
       "    </tr>\n",
       "    <tr>\n",
       "      <th>2</th>\n",
       "      <td>ADAMS</td>\n",
       "      <td>IN</td>\n",
       "      <td>2008</td>\n",
       "      <td>3.946667e+06</td>\n",
       "    </tr>\n",
       "    <tr>\n",
       "      <th>3</th>\n",
       "      <td>ADAMS</td>\n",
       "      <td>IN</td>\n",
       "      <td>2009</td>\n",
       "      <td>4.369181e+06</td>\n",
       "    </tr>\n",
       "    <tr>\n",
       "      <th>4</th>\n",
       "      <td>ADAMS</td>\n",
       "      <td>IN</td>\n",
       "      <td>2010</td>\n",
       "      <td>5.176397e+06</td>\n",
       "    </tr>\n",
       "  </tbody>\n",
       "</table>\n",
       "</div>"
      ],
      "text/plain": [
       "  BUYER_COUNTY BUYER_STATE  Year           MME\n",
       "0        ADAMS          IN  2006  3.290648e+06\n",
       "1        ADAMS          IN  2007  3.786557e+06\n",
       "2        ADAMS          IN  2008  3.946667e+06\n",
       "3        ADAMS          IN  2009  4.369181e+06\n",
       "4        ADAMS          IN  2010  5.176397e+06"
      ]
     },
     "execution_count": 6,
     "metadata": {},
     "output_type": "execute_result"
    }
   ],
   "source": [
    "result = grouped_df.compute()\n",
    "result.head()"
   ]
  }
 ],
 "metadata": {
  "kernelspec": {
   "display_name": "dask_env",
   "language": "python",
   "name": "python3"
  },
  "language_info": {
   "codemirror_mode": {
    "name": "ipython",
    "version": 3
   },
   "file_extension": ".py",
   "mimetype": "text/x-python",
   "name": "python",
   "nbconvert_exporter": "python",
   "pygments_lexer": "ipython3",
   "version": "3.11.6"
  }
 },
 "nbformat": 4,
 "nbformat_minor": 2
}
