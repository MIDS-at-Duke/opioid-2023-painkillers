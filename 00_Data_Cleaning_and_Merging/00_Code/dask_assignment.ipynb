{
 "cells": [
  {
   "cell_type": "code",
   "execution_count": 2,
   "metadata": {},
   "outputs": [],
   "source": [
    "import pandas as pd\n",
    "import os\n",
    "import dask.dataframe as dd\n",
    "\n",
    "pd.set_option(\"mode.copy_on_write\", True)\n",
    "\n",
    "import warnings\n",
    "\n",
    "warnings.simplefilter(action=\"ignore\", category=FutureWarning)"
   ]
  },
  {
   "cell_type": "code",
   "execution_count": 3,
   "metadata": {},
   "outputs": [
    {
     "name": "stdout",
     "output_type": "stream",
     "text": [
      "I have 8 logical cores.\n"
     ]
    }
   ],
   "source": [
    "import os\n",
    "\n",
    "print(f\"I have {os.cpu_count()} logical cores.\")"
   ]
  },
  {
   "cell_type": "code",
   "execution_count": 4,
   "metadata": {},
   "outputs": [
    {
     "name": "stderr",
     "output_type": "stream",
     "text": [
      "/Users/keonnartey/miniconda3/envs/dask_env/lib/python3.11/site-packages/dask/dataframe/io/csv.py:546: UserWarning: Warning zip compression does not support breaking apart files\n",
      "Please ensure that each individual file can fit in memory and\n",
      "use the keyword ``blocksize=None to remove this message``\n",
      "Setting ``blocksize=None``\n",
      "  warn(\n"
     ]
    }
   ],
   "source": [
    "# Define the columns you want to keep\n",
    "required_columns = [\n",
    "    \"BUYER_COUNTY\",\n",
    "    \"BUYER_STATE\",\n",
    "    \"TRANSACTION_DATE\",\n",
    "    \"DOSAGE_UNIT\",\n",
    "    \"CALC_BASE_WT_IN_GM\",\n",
    "    \"MME\",\n",
    "]\n",
    "\n",
    "large_df = dd.read_csv(\n",
    "    \"/Users/keonnartey/Downloads/arcos_all_washpost.zip\",\n",
    "    compression=\"zip\",\n",
    "    sep=\"\\t\",\n",
    "    usecols=required_columns,\n",
    "    dtype={\n",
    "        \"MME\": \"float64\",\n",
    "        \"CALC_BASE_WT_IN_GM\": \"float64\",\n",
    "    },  # Specify the dtype for the columns\n",
    ")\n",
    "\n",
    "# Extract year\n",
    "large_df[\"Year\"] = dd.to_datetime(large_df.TRANSACTION_DATE, format=\"%Y-%m-%d\").dt.year\n",
    "\n",
    "# Group by BUYER_COUNTY, BUYER_STATE, Year and sum MME and CALC_BASE_WT_IN_GM\n",
    "\n",
    "grouped_df = (\n",
    "    large_df.groupby([\"BUYER_COUNTY\", \"BUYER_STATE\", \"Year\"])[\"MME\"].sum().reset_index()\n",
    ")"
   ]
  },
  {
   "cell_type": "code",
   "execution_count": 5,
   "metadata": {},
   "outputs": [],
   "source": [
    "result = grouped_df.compute()\n",
    "result.head()"
   ]
  }
 ],
 "metadata": {
  "kernelspec": {
   "display_name": "dask_env",
   "language": "python",
   "name": "python3"
  },
  "language_info": {
   "codemirror_mode": {
    "name": "ipython",
    "version": 3
   },
   "file_extension": ".py",
   "mimetype": "text/x-python",
   "name": "python",
   "nbconvert_exporter": "python",
   "pygments_lexer": "ipython3",
   "version": "3.11.6"
  }
 },
 "nbformat": 4,
 "nbformat_minor": 2
}
